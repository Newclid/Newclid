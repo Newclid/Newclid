version https://git-lfs.github.com/spec/v1
oid sha256:c411bd2065af33cd3be251b9cb4a5f039275d115203f4a7bdd59fe5b88c1f402
size 13580
